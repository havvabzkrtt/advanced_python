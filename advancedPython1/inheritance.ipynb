{
 "cells": [
  {
   "cell_type": "markdown",
   "metadata": {},
   "source": [
    "# Inheritance\n",
    "\n",
    "Inheritance belirtilen başka classlardaki method veya attribute'lara erişilmesini sağlar.\n",
    "\n",
    "Diyelimki farklı tipte çalışanlar yaratılmak isteniyor. IT ve HR çalışanları olsun."
   ]
  },
  {
   "cell_type": "code",
   "execution_count": 1,
   "metadata": {},
   "outputs": [],
   "source": [
    "class Employee:\n",
    "\n",
    "    raise_percent = 1.05  # class variable\n",
    "    num_emp = 0 # class variable\n",
    "\n",
    "    def __init__(self, name, last, age, pay):\n",
    "        self.name = name \n",
    "        self.last = last\n",
    "        self.age = age\n",
    "        self.pay = pay\n",
    "        Employee.num_emp += 1 # her obje oluştuğunda bu class variable'ı güncellenecek\n",
    "\n",
    "    def apply_raise(self):\n",
    "        self.pay = self.pay * Employee.raise_percent "
   ]
  },
  {
   "cell_type": "markdown",
   "metadata": {},
   "source": [
    "Hangi class'tan inherit etmek istediğimizi parantez içine yazıyoruz. \n",
    "\n",
    "Inheritance veren classa \"super class\" veya \"parent class\", inheritance alan classa \"subclass\" veya \"child\" denir.\n",
    "\n",
    "Subclass, superclas'tan dallandıpı için onun tüm attribute'larına ve methodlarına erişebilir."
   ]
  },
  {
   "cell_type": "code",
   "execution_count": 2,
   "metadata": {},
   "outputs": [],
   "source": [
    "emp_1 = Employee(\"James\", \"Hughes\", \"32\", 5000)\n",
    "emp_2 = Employee(\"Charlie\", \"Brown\", \"22\", 3000)"
   ]
  },
  {
   "cell_type": "code",
   "execution_count": 4,
   "metadata": {},
   "outputs": [],
   "source": [
    "class IT(Employee):  # hangi class'tan inheritance alındıysa o parantez içine yazılır\n",
    "    pass\n",
    "\n",
    "# IT'nin içine hiçbir şey yazmasak da, Employee'nin özelliklerine erişimi var.\n",
    "# IT'nin içerisinde bulamazsa aradığını, iherit ettiği yere gidip bakacak. IT'nin içerisinde \"__ini__\" methodu yok o yüzden Employee  classına bakacak."
   ]
  },
  {
   "cell_type": "code",
   "execution_count": 5,
   "metadata": {},
   "outputs": [],
   "source": [
    "it_1 = IT(\"James\", \"Hughes\", \"32\", 5000)"
   ]
  },
  {
   "cell_type": "code",
   "execution_count": 7,
   "metadata": {},
   "outputs": [
    {
     "name": "stdout",
     "output_type": "stream",
     "text": [
      "{'name': 'James', 'last': 'Hughes', 'age': '32', 'pay': 5000}\n"
     ]
    }
   ],
   "source": [
    "print(it_1.__dict__)"
   ]
  },
  {
   "cell_type": "code",
   "execution_count": 6,
   "metadata": {},
   "outputs": [
    {
     "data": {
      "text/plain": [
       "'James'"
      ]
     },
     "execution_count": 6,
     "metadata": {},
     "output_type": "execute_result"
    }
   ],
   "source": [
    "it_1.name"
   ]
  },
  {
   "cell_type": "code",
   "execution_count": 8,
   "metadata": {},
   "outputs": [
    {
     "name": "stdout",
     "output_type": "stream",
     "text": [
      "Help on class IT in module __main__:\n",
      "\n",
      "class IT(Employee)\n",
      " |  IT(name, last, age, pay)\n",
      " |  \n",
      " |  Method resolution order:\n",
      " |      IT\n",
      " |      Employee\n",
      " |      builtins.object\n",
      " |  \n",
      " |  Methods inherited from Employee:\n",
      " |  \n",
      " |  __init__(self, name, last, age, pay)\n",
      " |      Initialize self.  See help(type(self)) for accurate signature.\n",
      " |  \n",
      " |  apply_raise(self)\n",
      " |  \n",
      " |  ----------------------------------------------------------------------\n",
      " |  Data descriptors inherited from Employee:\n",
      " |  \n",
      " |  __dict__\n",
      " |      dictionary for instance variables\n",
      " |  \n",
      " |  __weakref__\n",
      " |      list of weak references to the object\n",
      " |  \n",
      " |  ----------------------------------------------------------------------\n",
      " |  Data and other attributes inherited from Employee:\n",
      " |  \n",
      " |  num_emp = 3\n",
      " |  \n",
      " |  raise_percent = 1.05\n",
      "\n"
     ]
    }
   ],
   "source": [
    "help(IT)"
   ]
  },
  {
   "cell_type": "code",
   "execution_count": 9,
   "metadata": {},
   "outputs": [],
   "source": [
    "it_1.apply_raise()"
   ]
  },
  {
   "cell_type": "code",
   "execution_count": 14,
   "metadata": {},
   "outputs": [
    {
     "data": {
      "text/plain": [
       "5250.0"
      ]
     },
     "execution_count": 14,
     "metadata": {},
     "output_type": "execute_result"
    }
   ],
   "source": [
    "it_1.pay"
   ]
  },
  {
   "cell_type": "code",
   "execution_count": 16,
   "metadata": {},
   "outputs": [],
   "source": [
    "# Diyelimki IT'dekilerin raise_percent'i (yüzdelik maaş değişimi) farklı bir değer olarak belirtilmek isteniyor.\n",
    "\n",
    "class IT(Employee):\n",
    "    raise_percent = 1.2"
   ]
  },
  {
   "cell_type": "code",
   "execution_count": 17,
   "metadata": {},
   "outputs": [],
   "source": [
    "it_1 = IT(\"James\", \"Hughes\", \"32\", 5000)"
   ]
  },
  {
   "cell_type": "code",
   "execution_count": 18,
   "metadata": {},
   "outputs": [
    {
     "data": {
      "text/plain": [
       "5000"
      ]
     },
     "execution_count": 18,
     "metadata": {},
     "output_type": "execute_result"
    }
   ],
   "source": [
    "it_1.pay"
   ]
  },
  {
   "cell_type": "code",
   "execution_count": 20,
   "metadata": {},
   "outputs": [
    {
     "data": {
      "text/plain": [
       "1.2"
      ]
     },
     "execution_count": 20,
     "metadata": {},
     "output_type": "execute_result"
    }
   ],
   "source": [
    "it_1.raise_percent"
   ]
  },
  {
   "cell_type": "code",
   "execution_count": 19,
   "metadata": {},
   "outputs": [
    {
     "data": {
      "text/plain": [
       "5250.0"
      ]
     },
     "execution_count": 19,
     "metadata": {},
     "output_type": "execute_result"
    }
   ],
   "source": [
    "# Employee'deki raise_percent attribute'unu kullanmak yerine kendisinin içinde belirtileni kullanıyor.\n",
    "# Kendi içerisinde bulabiliyorsa kullanıyor, bulamazsa inherit ettiği yere bakıyor.\n",
    "\n",
    "it_1.apply_raise()\n",
    "it_1.pay"
   ]
  },
  {
   "cell_type": "code",
   "execution_count": 21,
   "metadata": {},
   "outputs": [
    {
     "data": {
      "text/plain": [
       "1.05"
      ]
     },
     "execution_count": 21,
     "metadata": {},
     "output_type": "execute_result"
    }
   ],
   "source": [
    "# IT'nin raise_percent'ini değiştirmek, intherit ettiği yerinkini değiştirmez. (subclass'ta yapılan değişiklik parent class'ı etkilemez.)\n",
    "\n",
    "Employee.raise_percent"
   ]
  },
  {
   "cell_type": "code",
   "execution_count": 23,
   "metadata": {},
   "outputs": [],
   "source": [
    "# IT'ye yeni bir özellik olarak hangi prohramlama dilini bildiklerini de eklemek isteniyor.\n",
    "\n",
    "class IT(Employee):\n",
    "\n",
    "    raise_percent = 1.2  # class variable\n",
    "\n",
    "    def __init__(self, name, last, age, pay, lang): # Burda da \"__init__\" methodu olduğundan burdakine öncelik verilerek bu kullanılacak.\n",
    "        self.name = name \n",
    "        self.last = last\n",
    "        self.age = age\n",
    "        self.pay = pay\n",
    "        self.lang = lang"
   ]
  },
  {
   "cell_type": "code",
   "execution_count": 25,
   "metadata": {},
   "outputs": [],
   "source": [
    "it_1 = IT(\"James\", \"Hughes\", \"32\", 5000, \"python\")"
   ]
  },
  {
   "cell_type": "code",
   "execution_count": 26,
   "metadata": {},
   "outputs": [
    {
     "data": {
      "text/plain": [
       "'python'"
      ]
     },
     "execution_count": 26,
     "metadata": {},
     "output_type": "execute_result"
    }
   ],
   "source": [
    "it_1.lang"
   ]
  },
  {
   "cell_type": "code",
   "execution_count": null,
   "metadata": {},
   "outputs": [],
   "source": [
    "# Ama bu başka şekilde de yapılabilir.\n",
    "\n",
    "class IT(Employee):\n",
    "\n",
    "    raise_percent = 1.2  # class variable\n",
    "\n",
    "    def __init__(self, name, last, age, pay, lang):\n",
    "        super().__init__(name, last, age, pay) # Super class'taki \"__init__\" methodu çağırıyoruz.\n",
    "        self.lang = lang\n",
    "\n",
    "# Böylece aynı kod tekrar tekrar yazılmamış oldu. \n",
    "# Zaten super class'ın init methodu yapıyorsa yeniden yazmaya gerek yok.\n"
   ]
  },
  {
   "cell_type": "code",
   "execution_count": 28,
   "metadata": {},
   "outputs": [],
   "source": [
    "it_1 = IT(\"James\", \"Hughes\", \"32\", 5000, \"c++\")"
   ]
  },
  {
   "cell_type": "code",
   "execution_count": 29,
   "metadata": {},
   "outputs": [
    {
     "data": {
      "text/plain": [
       "'c++'"
      ]
     },
     "execution_count": 29,
     "metadata": {},
     "output_type": "execute_result"
    }
   ],
   "source": [
    "it_1.lang"
   ]
  },
  {
   "cell_type": "code",
   "execution_count": 31,
   "metadata": {},
   "outputs": [],
   "source": [
    "class IK(Employee):\n",
    "\n",
    "    raise_percent = 1.2  # class variable\n",
    "\n",
    "    def __init__(self, name, last, age, pay, experience):\n",
    "        super().__init__(name, last, age, pay) # Super class'taki \"__init__\" methodu çağırıyoruz.\n",
    "        self.experience = experience\n",
    "\n",
    "    # Super class'ta olmayan, bu class'a özgü olacak method da eklenebilir.\n",
    "    def print_exp(self):\n",
    "        print(f'This employee has {self.experience} years of experience.')"
   ]
  },
  {
   "cell_type": "code",
   "execution_count": 35,
   "metadata": {},
   "outputs": [],
   "source": [
    "ik_1 = IK(\"James\", \"Hughes\", \"32\", 5000, 2)"
   ]
  },
  {
   "cell_type": "code",
   "execution_count": 36,
   "metadata": {},
   "outputs": [
    {
     "name": "stdout",
     "output_type": "stream",
     "text": [
      "This employee has 2 years of experience.\n"
     ]
    }
   ],
   "source": [
    "ik_1.print_exp()"
   ]
  },
  {
   "cell_type": "markdown",
   "metadata": {},
   "source": [
    "# Building Functions"
   ]
  },
  {
   "cell_type": "code",
   "execution_count": 37,
   "metadata": {},
   "outputs": [
    {
     "data": {
      "text/plain": [
       "True"
      ]
     },
     "execution_count": 37,
     "metadata": {},
     "output_type": "execute_result"
    }
   ],
   "source": [
    "isinstance(ik_1, IK) # ik_1, IK'nın instance'ı mı?"
   ]
  },
  {
   "cell_type": "code",
   "execution_count": 41,
   "metadata": {},
   "outputs": [
    {
     "data": {
      "text/plain": [
       "True"
      ]
     },
     "execution_count": 41,
     "metadata": {},
     "output_type": "execute_result"
    }
   ],
   "source": [
    "isinstance(ik_1, Employee) # ik_1, Employee'nin instance'ı mı?\n",
    "\n",
    "# ik_1, hem IK'nın hem de Employee'nin subclass'ı olur."
   ]
  },
  {
   "cell_type": "code",
   "execution_count": 38,
   "metadata": {},
   "outputs": [
    {
     "data": {
      "text/plain": [
       "True"
      ]
     },
     "execution_count": 38,
     "metadata": {},
     "output_type": "execute_result"
    }
   ],
   "source": [
    "issubclass(IK, Employee) # IK, Employee'nin subclass'ı mı?"
   ]
  },
  {
   "cell_type": "code",
   "execution_count": 39,
   "metadata": {},
   "outputs": [
    {
     "data": {
      "text/plain": [
       "True"
      ]
     },
     "execution_count": 39,
     "metadata": {},
     "output_type": "execute_result"
    }
   ],
   "source": [
    "issubclass(IT, Employee)"
   ]
  },
  {
   "cell_type": "code",
   "execution_count": 40,
   "metadata": {},
   "outputs": [
    {
     "data": {
      "text/plain": [
       "False"
      ]
     },
     "execution_count": 40,
     "metadata": {},
     "output_type": "execute_result"
    }
   ],
   "source": [
    "issubclass(IT, IK)"
   ]
  }
 ],
 "metadata": {
  "kernelspec": {
   "display_name": "Python 3",
   "language": "python",
   "name": "python3"
  },
  "language_info": {
   "codemirror_mode": {
    "name": "ipython",
    "version": 3
   },
   "file_extension": ".py",
   "mimetype": "text/x-python",
   "name": "python",
   "nbconvert_exporter": "python",
   "pygments_lexer": "ipython3",
   "version": "3.11.7"
  }
 },
 "nbformat": 4,
 "nbformat_minor": 2
}
