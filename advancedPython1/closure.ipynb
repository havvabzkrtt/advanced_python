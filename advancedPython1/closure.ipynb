{
 "cells": [
  {
   "cell_type": "markdown",
   "metadata": {},
   "source": [
    "# Closure\n",
    "\n",
    "Bir fonksiyonun içinde tanımlanmış fonksiyonun, dışındaki fonksiyonun içinde tanımlanmış değişkenlere, dıştaki fonksiyon çağrılmış olsa da erişebilmesidir.\n",
    "\n",
    "\n",
    "İç içe fonksiyonlarda outer(dış) fonksiyonu çağırdıktan sonra bile inner(iç) fonksiyonun, outer fonksiyon scope'una erişebilmesidir.\n",
    "\n",
    "outer(dış) fonksiyon: kendi scope'u, enclosing scope olur\n",
    "inner(iç) fonksiyon: kendi scope'u, local scope olur.\n",
    "\n",
    "Outer fonksiyonu çağırdıktan sonra bile inner fonksiyon, outer fonksiyonun variable'larına hala erişim sağlayabilir."
   ]
  },
  {
   "cell_type": "code",
   "execution_count": 1,
   "metadata": {},
   "outputs": [],
   "source": [
    "def outer():\n",
    "    msg = \"Hey\"\n",
    "\n",
    "    def inner():\n",
    "        print(msg)\n",
    "    \n",
    "    return inner() # inner fonksiyonu call yapar\n",
    " \n",
    "#Bu örnek daha önce yaptıklarımızdan farklı değil. inner fonksiyon enclosing scope a erişip \"msg\" değişkenini bastırabildi."
   ]
  },
  {
   "cell_type": "code",
   "execution_count": 2,
   "metadata": {},
   "outputs": [
    {
     "name": "stdout",
     "output_type": "stream",
     "text": [
      "Hey\n"
     ]
    }
   ],
   "source": [
    "outer()"
   ]
  },
  {
   "cell_type": "code",
   "execution_count": 3,
   "metadata": {},
   "outputs": [],
   "source": [
    "def outer():\n",
    "    msg = \"Hey\"\n",
    "\n",
    "    def inner():\n",
    "        print(msg)\n",
    "    \n",
    "    return inner # inner fonksiyonu obje olarak döndürür"
   ]
  },
  {
   "cell_type": "code",
   "execution_count": 9,
   "metadata": {},
   "outputs": [],
   "source": [
    "f = outer()"
   ]
  },
  {
   "cell_type": "code",
   "execution_count": 10,
   "metadata": {},
   "outputs": [
    {
     "data": {
      "text/plain": [
       "<function __main__.outer.<locals>.inner()>"
      ]
     },
     "execution_count": 10,
     "metadata": {},
     "output_type": "execute_result"
    }
   ],
   "source": [
    "f       # \"msg\" kayboldu\n",
    "\n",
    "# Şimdi outer fonksiyonu çağırmış olduk ve bize içinde tanımlanan inner function ı obje olarak döndürmüş olud.\n",
    "# Fonksiyon call yapılmadığı sürece obje olarak kalacak"
   ]
  },
  {
   "cell_type": "code",
   "execution_count": 11,
   "metadata": {},
   "outputs": [
    {
     "name": "stdout",
     "output_type": "stream",
     "text": [
      "Hey\n"
     ]
    }
   ],
   "source": [
    "f = outer()\n",
    "f()     # \"msg\" geldi\n",
    "\n",
    "# Buradda outer fonksiyonu çağrılmış olsa da onun scope'unde tanımlanan değişlene hala erişebildik."
   ]
  },
  {
   "cell_type": "code",
   "execution_count": 12,
   "metadata": {},
   "outputs": [],
   "source": [
    "def outer(msg):\n",
    "    msg = msg \n",
    "\n",
    "    def inner():\n",
    "        print(msg)\n",
    "    \n",
    "    return inner  # obje döndürecek"
   ]
  },
  {
   "cell_type": "code",
   "execution_count": 15,
   "metadata": {},
   "outputs": [
    {
     "data": {
      "text/plain": [
       "<function __main__.outer.<locals>.inner()>"
      ]
     },
     "execution_count": 15,
     "metadata": {},
     "output_type": "execute_result"
    }
   ],
   "source": [
    "hi_f = outer(\"hi\")\n",
    "hi_f"
   ]
  },
  {
   "cell_type": "code",
   "execution_count": 16,
   "metadata": {},
   "outputs": [
    {
     "name": "stdout",
     "output_type": "stream",
     "text": [
      "hi\n"
     ]
    }
   ],
   "source": [
    "hi_f()"
   ]
  },
  {
   "cell_type": "code",
   "execution_count": 17,
   "metadata": {},
   "outputs": [
    {
     "data": {
      "text/plain": [
       "<function __main__.outer.<locals>.inner()>"
      ]
     },
     "execution_count": 17,
     "metadata": {},
     "output_type": "execute_result"
    }
   ],
   "source": [
    "hey_f = outer(\"hey\")\n",
    "hey_f"
   ]
  },
  {
   "cell_type": "code",
   "execution_count": 18,
   "metadata": {},
   "outputs": [
    {
     "name": "stdout",
     "output_type": "stream",
     "text": [
      "hey\n"
     ]
    }
   ],
   "source": [
    "hey_f()"
   ]
  }
 ],
 "metadata": {
  "kernelspec": {
   "display_name": "Python 3",
   "language": "python",
   "name": "python3"
  },
  "language_info": {
   "codemirror_mode": {
    "name": "ipython",
    "version": 3
   },
   "file_extension": ".py",
   "mimetype": "text/x-python",
   "name": "python",
   "nbconvert_exporter": "python",
   "pygments_lexer": "ipython3",
   "version": "3.11.7"
  }
 },
 "nbformat": 4,
 "nbformat_minor": 2
}
