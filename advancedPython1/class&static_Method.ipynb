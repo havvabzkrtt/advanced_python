{
 "cells": [
  {
   "cell_type": "markdown",
   "metadata": {},
   "source": [
    "# Class Method\n",
    "\n",
    "İlk input'u, oyomatik olarak class referansı aktarılan methodlardır.\n",
    "\n",
    "\"@classmethod\" decorator methodu ilk argüman olarak instance almak yerine class'ı alacak şekilde güncellenir.\n",
    "\n",
    "Şimdiye kadarki örneklerde bir class içerisinde bir method tanımlarken hep ilk input(parametre) olarak \"self\" verildi. Çünkü o an hali hazırda incelenen instance buna otomatik olarak ilk input olarak verilir.\n",
    "\n",
    "O anki inclenen instance input olarak verilmesin de, onun yerine ilk input olarak class verilsin isteniyor.\n"
   ]
  },
  {
   "cell_type": "code",
   "execution_count": 1,
   "metadata": {},
   "outputs": [],
   "source": [
    "class Employee:\n",
    "\n",
    "    raise_percent = 1.05  # class variable\n",
    "    num_emp = 0 # class variable\n",
    "\n",
    "    def __init__(self, name, last, age, pay):\n",
    "        self.name = name \n",
    "        self.last = last\n",
    "        self.age = age\n",
    "        self.pay = pay\n",
    "        Employee.num_emp += 1 # her obje oluştuğunda bu class variable'ı güncellenecek\n",
    "\n",
    "    def apply_raise(self):\n",
    "        self.pay = self.pay * Employee.raise_percent \n",
    "\n",
    "    @classmethod  # Bunun altında tanımlanan method ilk input olarak instance yerine class'ı(Employee class'ını) alır\n",
    "    def set_raise(cls, amount):\n",
    "        cls.raise_percent = amount # class üzerinden class variable'ı değiştirildi"
   ]
  },
  {
   "cell_type": "code",
   "execution_count": 2,
   "metadata": {},
   "outputs": [],
   "source": [
    "emp_1 = Employee(\"James\", \"Hughes\", \"32\", 5000)\n",
    "emp_2 = Employee(\"Charlie\", \"Brown\", \"22\", 3000)"
   ]
  },
  {
   "cell_type": "code",
   "execution_count": 3,
   "metadata": {},
   "outputs": [
    {
     "name": "stdout",
     "output_type": "stream",
     "text": [
      "1.05\n",
      "1.05\n",
      "1.05\n"
     ]
    }
   ],
   "source": [
    "print(emp_1.raise_percent)\n",
    "print(emp_2.raise_percent)\n",
    "print(Employee.raise_percent)"
   ]
  },
  {
   "cell_type": "code",
   "execution_count": 4,
   "metadata": {},
   "outputs": [],
   "source": [
    "Employee.set_raise(1.06)"
   ]
  },
  {
   "cell_type": "code",
   "execution_count": 5,
   "metadata": {},
   "outputs": [
    {
     "name": "stdout",
     "output_type": "stream",
     "text": [
      "1.06\n",
      "1.06\n",
      "1.06\n"
     ]
    }
   ],
   "source": [
    "print(emp_1.raise_percent)\n",
    "print(emp_2.raise_percent)\n",
    "print(Employee.raise_percent)"
   ]
  },
  {
   "cell_type": "code",
   "execution_count": 6,
   "metadata": {},
   "outputs": [],
   "source": [
    "emp_1.set_raise(1.07) # Yine hepsini güncellemiş oldu, çünkü class üzerinden güncellenir ilk input class olduğundan "
   ]
  },
  {
   "cell_type": "code",
   "execution_count": 7,
   "metadata": {},
   "outputs": [
    {
     "name": "stdout",
     "output_type": "stream",
     "text": [
      "1.07\n",
      "1.07\n",
      "1.07\n"
     ]
    }
   ],
   "source": [
    "print(emp_1.raise_percent)\n",
    "print(emp_2.raise_percent)\n",
    "print(Employee.raise_percent)"
   ]
  },
  {
   "cell_type": "markdown",
   "metadata": {},
   "source": [
    "## Alternative Constructor\n",
    "\n",
    "Diyelimki bize class'ı oluştururken input olarak string veriyorlar ve bizim bundan name, age gibi bilgilier kendimiz çıkarmamız lazım "
   ]
  },
  {
   "cell_type": "code",
   "execution_count": 8,
   "metadata": {},
   "outputs": [],
   "source": [
    "emp_1_str = \"James-Hughes-32-5000\"\n",
    "emp_2_str = \"Charlie-Brown-22-3000\""
   ]
  },
  {
   "cell_type": "code",
   "execution_count": 9,
   "metadata": {},
   "outputs": [
    {
     "data": {
      "text/plain": [
       "['James', 'Hughes', '32', '5000']"
      ]
     },
     "execution_count": 9,
     "metadata": {},
     "output_type": "execute_result"
    }
   ],
   "source": [
    "emp_1_str.split(\"-\") # -'ye göre parçalayıp liste oluşturulur"
   ]
  },
  {
   "cell_type": "code",
   "execution_count": 10,
   "metadata": {},
   "outputs": [],
   "source": [
    "name, last, age, pay = emp_1_str.split(\"-\")"
   ]
  },
  {
   "cell_type": "code",
   "execution_count": 12,
   "metadata": {},
   "outputs": [],
   "source": [
    "emp_1 = Employee(name, last, age, pay)"
   ]
  },
  {
   "cell_type": "markdown",
   "metadata": {},
   "source": [
    "Ama belki her zaman bu şekilde - ile verilemeyebilir. String olarak input geldiğinde objenin bu şekilde oluşması için başka bir mekanizma kullanılmalı.\n",
    "\n",
    "Her seferinde kendimiz parse etmek yerine bunu bir method olarak yazabiliriz."
   ]
  },
  {
   "cell_type": "code",
   "execution_count": 13,
   "metadata": {},
   "outputs": [],
   "source": [
    "class Employee:\n",
    "\n",
    "    raise_percent = 1.05  # class variable\n",
    "    num_emp = 0 # class variable\n",
    "\n",
    "    def __init__(self, name, last, age, pay):\n",
    "        self.name = name \n",
    "        self.last = last\n",
    "        self.age = age\n",
    "        self.pay = pay\n",
    "        Employee.num_emp += 1 # her obje oluştuğunda bu class variable'ı güncellenecek\n",
    "\n",
    "    def apply_raise(self):\n",
    "        self.pay = self.pay * Employee.raise_percent \n",
    "\n",
    "    @classmethod  # Bunun altında tanımlanan method ilk input olarak instance yerine class'ı(Employee class'ını) alır\n",
    "    def set_raise(cls, amount):\n",
    "        cls.raise_percent = amount # class üzerinden class variable'ı değiştirildi\n",
    "\n",
    "    @classmethod\n",
    "    def from_string(cls, emp_str):\n",
    "        name, last, age, pay = emp_str.split(\"-\")\n",
    "        return cls(name, last, int(age), float(pay)) # yeni obje yaratacak ve döndürecek\n",
    "    \n"
   ]
  },
  {
   "cell_type": "code",
   "execution_count": 14,
   "metadata": {},
   "outputs": [],
   "source": [
    "emp_1_str = \"James-Hughes-32-5000\"\n",
    "emp_2_str = \"Charlie-Brown-22-3000\""
   ]
  },
  {
   "cell_type": "code",
   "execution_count": 16,
   "metadata": {},
   "outputs": [],
   "source": [
    "emp_1 = Employee.from_string(emp_1_str)"
   ]
  },
  {
   "cell_type": "code",
   "execution_count": 19,
   "metadata": {},
   "outputs": [
    {
     "name": "stdout",
     "output_type": "stream",
     "text": [
      "{'name': 'James', 'last': 'Hughes', 'age': 32, 'pay': 5000.0}\n",
      "5000.0\n"
     ]
    }
   ],
   "source": [
    "print(emp_1.__dict__)\n",
    "print(emp_1.pay)"
   ]
  },
  {
   "cell_type": "markdown",
   "metadata": {},
   "source": [
    "# Static Method \n",
    "\n",
    "Class'ların içerisinde otomatik olarak hiçbir input almayan methodlar'dır.\n",
    "\n",
    "Regular Method'lar(ilk gördüklerimiz), class'ın instance'ını (oluşturduğu objeyi), methodlara otomatik olarak arguman olarak veriyordu(self olarak). Class methodları class'ı otomatik olarak argürman olarak veriyor. Static methodlar otomatik olarak bir şeyi vermeyen methodlar olacak.\n",
    "\n",
    "Inctance veya class a methodun erişimi olmuyorsa, methodun onlarla bir işi yoksa static tanımlamak daha iyi olur."
   ]
  },
  {
   "cell_type": "code",
   "execution_count": 21,
   "metadata": {},
   "outputs": [],
   "source": [
    "class Employee:\n",
    "\n",
    "    raise_percent = 1.05  # class variable\n",
    "    num_emp = 0 # class variable\n",
    "\n",
    "    def __init__(self, name, last, age, pay):\n",
    "        self.name = name \n",
    "        self.last = last\n",
    "        self.age = age\n",
    "        self.pay = pay\n",
    "        Employee.num_emp += 1 # her obje oluştuğunda bu class variable'ı güncellenecek\n",
    "\n",
    "    def apply_raise(self):\n",
    "        self.pay = self.pay * Employee.raise_percent \n",
    "\n",
    "    @classmethod  # Bunun altında tanımlanan method ilk input olarak instance yerine class'ı(Employee class'ını) alır\n",
    "    def set_raise(cls, amount):\n",
    "        cls.raise_percent = amount # class üzerinden class variable'ı değiştirildi\n",
    "\n",
    "    @classmethod\n",
    "    def from_string(cls, emp_str):\n",
    "        name, last, age, pay = emp_str.split(\"-\")\n",
    "        return cls(name, last, int(age), float(pay)) # yeni obje yaratacak ve döndürecek\n",
    "    \n",
    "\n",
    "    @staticmethod\n",
    "    def holiday_print(day):  # otomatik olarak bir input vermedik(self veya cls gibi)\n",
    "        if day == \"weekent\":\n",
    "            print(\"This is an off day.\")\n",
    "        else:\n",
    "            print(\"This is not an off day.\")\n"
   ]
  },
  {
   "cell_type": "code",
   "execution_count": 23,
   "metadata": {},
   "outputs": [
    {
     "name": "stdout",
     "output_type": "stream",
     "text": [
      "This is not an off day.\n"
     ]
    }
   ],
   "source": [
    "Employee.holiday_print(\"weekend\") # class üzerinde de çağrılabilir"
   ]
  },
  {
   "cell_type": "code",
   "execution_count": 24,
   "metadata": {},
   "outputs": [],
   "source": [
    "emp_1 = Employee(\"James\", \"Hughes\", \"32\", 5000)"
   ]
  },
  {
   "cell_type": "code",
   "execution_count": 25,
   "metadata": {},
   "outputs": [
    {
     "name": "stdout",
     "output_type": "stream",
     "text": [
      "This is not an off day.\n"
     ]
    }
   ],
   "source": [
    "emp_1.holiday_print(\"workind_day\") # instance üzerinden de çağrılabilir"
   ]
  }
 ],
 "metadata": {
  "kernelspec": {
   "display_name": "Python 3",
   "language": "python",
   "name": "python3"
  },
  "language_info": {
   "codemirror_mode": {
    "name": "ipython",
    "version": 3
   },
   "file_extension": ".py",
   "mimetype": "text/x-python",
   "name": "python",
   "nbconvert_exporter": "python",
   "pygments_lexer": "ipython3",
   "version": "3.11.7"
  }
 },
 "nbformat": 4,
 "nbformat_minor": 2
}
