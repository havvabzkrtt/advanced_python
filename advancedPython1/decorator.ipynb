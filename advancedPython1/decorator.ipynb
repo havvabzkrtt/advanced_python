{
 "cells": [
  {
   "cell_type": "markdown",
   "metadata": {},
   "source": [
    "# Decorator\n",
    "\n",
    "Bir fonksiyon gibi düşünülebilir. Decorator'lar başka fonksiyonları input (parametre) olarak kabul edip yeni bir fonksiyonalite ile yeni bir fonksiyon döndüren yapılardır. Orjinal olarak verdiğimiz input fonksiyonu değiştirmeyecek."
   ]
  },
  {
   "cell_type": "code",
   "execution_count": 1,
   "metadata": {},
   "outputs": [],
   "source": [
    "def print_func():\n",
    "    print(\"hey\")"
   ]
  },
  {
   "cell_type": "code",
   "execution_count": 2,
   "metadata": {},
   "outputs": [],
   "source": [
    "def decorator_func(func):  # outer function\n",
    "    def wrapper_func():  # inner function, fonksiyonalite ekleme burda gerçekleşir\n",
    "        return func()    # şuan bir fonksiyonalite eklenmedi,sadece input olarak fonksiyon call edildi     \n",
    "    \n",
    "    return wrapper_func  # obje olarak döndürüyor, fonksiyonalite eklenmiş fonksiyonu"
   ]
  },
  {
   "cell_type": "code",
   "execution_count": 3,
   "metadata": {},
   "outputs": [],
   "source": [
    "decorator_print = decorator_func(print_func) # obje döndü"
   ]
  },
  {
   "cell_type": "code",
   "execution_count": 4,
   "metadata": {},
   "outputs": [
    {
     "name": "stdout",
     "output_type": "stream",
     "text": [
      "hey\n"
     ]
    }
   ],
   "source": [
    "decorator_print()  # call yaptık"
   ]
  },
  {
   "cell_type": "code",
   "execution_count": 6,
   "metadata": {},
   "outputs": [],
   "source": [
    "# Şimdi var olan bir fonksiyonu değiştirmeden yeni bir davranış kazandırlacak.\n",
    "\n",
    "def decorator_func(func):  # outer function\n",
    "    def wrapper_func():  # inner function, fonksiyonalite ekleme burda gerçekleşir\n",
    "        print(f\"the name of the function is {func.__name__}\")   # fonksiyonun ismi yazdırılıdı\n",
    "        return func()   \n",
    "    \n",
    "    return wrapper_func  # obje olarak döndürüyor, fonksiyonalite eklenmiş fonksiyonu"
   ]
  },
  {
   "cell_type": "code",
   "execution_count": 7,
   "metadata": {},
   "outputs": [
    {
     "name": "stdout",
     "output_type": "stream",
     "text": [
      "the name of the function is print_func\n",
      "hey\n"
     ]
    }
   ],
   "source": [
    "decorator_print = decorator_func(print_func) # obje döndü\n",
    "decorator_print()  # call yaptık"
   ]
  },
  {
   "cell_type": "markdown",
   "metadata": {},
   "source": [
    "Aynı şey aşağıdaki şekilde de ifade edilebilir."
   ]
  },
  {
   "cell_type": "code",
   "execution_count": 8,
   "metadata": {},
   "outputs": [],
   "source": [
    "# aşağıda @ işareti kullanarak şununla aynı işlemi yapıyoruz : print_func = decorator_func(print_func)\n",
    "# decorator_func() içerisine print_func 'ı input olarak vermiş oluyoruz.\n",
    "\n",
    "@decorator_func\n",
    "def print_func():\n",
    "    print(\"Hi\")\n",
    "\n",
    "# Decorator mantığına baktığımızda günün sonund inner function olan \"wapper_func\" obje olarak döndürülür."
   ]
  },
  {
   "cell_type": "code",
   "execution_count": 9,
   "metadata": {},
   "outputs": [
    {
     "name": "stdout",
     "output_type": "stream",
     "text": [
      "the name of the function is print_func\n",
      "Hi\n"
     ]
    }
   ],
   "source": [
    "print_func() # call ediyoruz"
   ]
  },
  {
   "cell_type": "code",
   "execution_count": 10,
   "metadata": {},
   "outputs": [],
   "source": [
    "def func(name, number):\n",
    "    print(f\"name: {name}, number: {number}\")"
   ]
  },
  {
   "cell_type": "code",
   "execution_count": 11,
   "metadata": {},
   "outputs": [
    {
     "name": "stdout",
     "output_type": "stream",
     "text": [
      "name: jack, number: 102\n"
     ]
    }
   ],
   "source": [
    "func(\"jack\", 102)"
   ]
  },
  {
   "cell_type": "code",
   "execution_count": 12,
   "metadata": {},
   "outputs": [],
   "source": [
    "def decorator_func(func):\n",
    "    def wrapper_func():\n",
    "        print(f\"the name of the function is {func.__name__}\")\n",
    "        return func(*args)\n",
    "\n",
    "    return wrapper_func"
   ]
  },
  {
   "cell_type": "code",
   "execution_count": 13,
   "metadata": {},
   "outputs": [],
   "source": [
    "@decorator_func\n",
    "def func(name, number):\n",
    "    print(f\"name: {name}, number: {number}\")"
   ]
  },
  {
   "cell_type": "code",
   "execution_count": 14,
   "metadata": {},
   "outputs": [
    {
     "ename": "TypeError",
     "evalue": "decorator_func.<locals>.wrapper_func() takes 0 positional arguments but 2 were given",
     "output_type": "error",
     "traceback": [
      "\u001b[1;31m---------------------------------------------------------------------------\u001b[0m",
      "\u001b[1;31mTypeError\u001b[0m                                 Traceback (most recent call last)",
      "Cell \u001b[1;32mIn[14], line 2\u001b[0m\n\u001b[0;32m      1\u001b[0m \u001b[38;5;66;03m# bunları wrapper a arguman olarak verir, ama wrapper arguman almıyor hata alınır\u001b[39;00m\n\u001b[1;32m----> 2\u001b[0m \u001b[43mfunc\u001b[49m\u001b[43m(\u001b[49m\u001b[38;5;124;43m\"\u001b[39;49m\u001b[38;5;124;43mjack\u001b[39;49m\u001b[38;5;124;43m\"\u001b[39;49m\u001b[43m,\u001b[49m\u001b[43m \u001b[49m\u001b[38;5;241;43m102\u001b[39;49m\u001b[43m)\u001b[49m\n",
      "\u001b[1;31mTypeError\u001b[0m: decorator_func.<locals>.wrapper_func() takes 0 positional arguments but 2 were given"
     ]
    }
   ],
   "source": [
    "# bunları wrapper a arguman olarak verir, ama wrapper arguman almıyor hata alınır\n",
    "func(\"jack\", 102)\n",
    "\n",
    "# hata: wrapper normalde 0 positional arguman alır ama sen 2 tane verdin "
   ]
  },
  {
   "cell_type": "code",
   "execution_count": 15,
   "metadata": {},
   "outputs": [],
   "source": [
    "def decorator_func(func):\n",
    "    def wrapper_func(*args):  # hatanın çözlümesi için arguman alacak şekilde tanımlanması lazım / modifiye edeceğimiz fonksiyonun kaç argumana sahip olduğunu bilmiyoruz o yüzden *args kullandık\n",
    "        print(f\"the name of the function is {func.__name__}\")\n",
    "        return func(*args)\n",
    "\n",
    "    return wrapper_func"
   ]
  },
  {
   "cell_type": "code",
   "execution_count": 16,
   "metadata": {},
   "outputs": [],
   "source": [
    "@decorator_func\n",
    "def func(name, number):\n",
    "    print(f\"name: {name}, number: {number}\")"
   ]
  },
  {
   "cell_type": "code",
   "execution_count": 17,
   "metadata": {},
   "outputs": [
    {
     "name": "stdout",
     "output_type": "stream",
     "text": [
      "the name of the function is func\n",
      "name: jack, number: 102\n"
     ]
    }
   ],
   "source": [
    "func(\"jack\", 102)"
   ]
  }
 ],
 "metadata": {
  "kernelspec": {
   "display_name": "Python 3",
   "language": "python",
   "name": "python3"
  },
  "language_info": {
   "codemirror_mode": {
    "name": "ipython",
    "version": 3
   },
   "file_extension": ".py",
   "mimetype": "text/x-python",
   "name": "python",
   "nbconvert_exporter": "python",
   "pygments_lexer": "ipython3",
   "version": "3.11.7"
  }
 },
 "nbformat": 4,
 "nbformat_minor": 2
}
