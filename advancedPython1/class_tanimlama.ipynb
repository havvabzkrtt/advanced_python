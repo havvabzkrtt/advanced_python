{
 "cells": [
  {
   "cell_type": "markdown",
   "metadata": {},
   "source": [
    "# Class Tanımlamak\n",
    "\n",
    "* Fonksiyonlarda belirli fonksiyonalite ifade eden kodları bir araya getirme görülmüştü. Class mantığında hem fonksiyonalite hem de veriyi bir arada tutma yoluna bakılacak.\n",
    "\n",
    "* Class'ın içerisinde veri(data)'lere \"attribute\", fonksiyonlara \"method\" denilir.\n",
    "\n",
    "* Diyelimki bir iş yeri çalışanları kodumuzda ifade etmek istiyoruz. Bu \"class\" mantığı ile uyumlu olarak düşünelim. Her çalışanın farklı farklı özellikleri (yaş, cinsiyet vb.) (attribute'ları) ve yaptıkları şeyler(method'ları) olacak.\n",
    "\n",
    "* Fonksiyon tanımlarken \"def\" keyword'ü kullanılırdı, class oluşturulurken \"class\" keyword'ü kullanılır.\n",
    "\n",
    "* Class'ın içerisinde method(fonksiyon) yaratırken, classtan yaratılan objeyi methodlar ilk arguman olarak alırlar. İstenilen ad verilebilir ama genellikle \"self\" diye geçer. (self : instance'nin referansını verir)\n",
    "\n",
    "Araba yapmak istiyoruz: \n",
    "- class     : arabanın planı class olur (özellikleri, yapacağı şeyler) (rengi, modeli farklı olur)\n",
    "- obje      : plandan oluşturulan arabalar objeler olur \n",
    "- instance  : o an hali hazırda incelenen araba objesi olur "
   ]
  },
  {
   "cell_type": "markdown",
   "metadata": {},
   "source": [
    "# Attribute\n",
    "\n",
    "Class içerisinde tanımlanan variable'lar."
   ]
  },
  {
   "cell_type": "code",
   "execution_count": 1,
   "metadata": {},
   "outputs": [],
   "source": [
    "class Employee:     # class ismi büyük harfle başlar\n",
    "    pass  # içi tamamen boş olursa hata alınır / boş olmasını istiyorsak \"pass\" kullanılmalı, daha sonra doldurulabilir"
   ]
  },
  {
   "cell_type": "code",
   "execution_count": 3,
   "metadata": {},
   "outputs": [],
   "source": [
    "e = Employee()   # Employee classından obje oluşturuldu"
   ]
  },
  {
   "cell_type": "code",
   "execution_count": 4,
   "metadata": {},
   "outputs": [
    {
     "data": {
      "text/plain": [
       "4"
      ]
     },
     "execution_count": 4,
     "metadata": {},
     "output_type": "execute_result"
    }
   ],
   "source": [
    "# e  objesi üzerinde \"a\" attribute'u ekle\n",
    "e.a = 4\n",
    "\n",
    "e.a"
   ]
  },
  {
   "cell_type": "code",
   "execution_count": 5,
   "metadata": {},
   "outputs": [],
   "source": [
    "# Böyle tek tek belirtmek yerine en başta class oluşturulurken attribute'lar verilebilir.\n",
    "\n",
    "class Employee:\n",
    "    def __init__(self, name, last, age, pay): # self : instance'ın referansını verir / ortak terim olsun diye \"self\" ismi verilmiş, \"self\" yerine \"a\" yazılabilirdi\n",
    "        self.name = name  \n",
    "        # self.name = \"hey\"  # yukarıdaki görmezden gelinebilir\n",
    "        self.last = last\n",
    "        self.age = age\n",
    "        self.pay = pay\n",
    "\n",
    "# Class bunlardan obje'ler yaratmak için bir kalıptır sadece."
   ]
  },
  {
   "cell_type": "code",
   "execution_count": 6,
   "metadata": {},
   "outputs": [],
   "source": [
    "emp_1 = Employee(\"James\", \"Hughes\", \"32\", 5000) # Employee classından bir obje oluşturuldu\n",
    "# sırasıyla argumanlara değer verilmiş oldu"
   ]
  },
  {
   "cell_type": "code",
   "execution_count": 7,
   "metadata": {},
   "outputs": [
    {
     "data": {
      "text/plain": [
       "'James'"
      ]
     },
     "execution_count": 7,
     "metadata": {},
     "output_type": "execute_result"
    }
   ],
   "source": [
    "emp_1.name"
   ]
  },
  {
   "cell_type": "code",
   "execution_count": 8,
   "metadata": {},
   "outputs": [],
   "source": [
    "emp_2 = Employee(\"Charlie\", \"Brown\", \"22\", 3000)"
   ]
  },
  {
   "cell_type": "code",
   "execution_count": 10,
   "metadata": {},
   "outputs": [
    {
     "data": {
      "text/plain": [
       "(3000, '22')"
      ]
     },
     "execution_count": 10,
     "metadata": {},
     "output_type": "execute_result"
    }
   ],
   "source": [
    "emp_2.pay, emp_2.age"
   ]
  },
  {
   "cell_type": "markdown",
   "metadata": {},
   "source": [
    "Burada yarattığımız bütün attribute'lar \"instance variable\". Her obje (classtan yaratılan instance), kendine özel attribute'a sahip (iki kişinin adı aynı olabilir ama hepsi için ayrı bir variable var ve hepsi kendi \"age\" attribute'unda tutuluyor)"
   ]
  },
  {
   "cell_type": "markdown",
   "metadata": {},
   "source": [
    "# Method\n",
    "\n",
    "Class içerisinde tanımlanan fonksiyonlar."
   ]
  },
  {
   "cell_type": "code",
   "execution_count": 18,
   "metadata": {},
   "outputs": [],
   "source": [
    "class Employee:\n",
    "    def __init__(self, name, last, age, pay): # self : instance'ın referansını verir / ortak terim olsun diye \"self\" ismi verilmiş, \"self\" yerine \"a\" yazılabilirdi\n",
    "        self.name = name \n",
    "        self.last = last\n",
    "        self.age = age\n",
    "        self.pay = pay\n",
    "\n",
    "    def fullname(self): # \"self\" yazmazsak, instance her türlü arguman olarak gideceği için hata verir\n",
    "        print(f\"{self.name} {self.last}\")"
   ]
  },
  {
   "cell_type": "code",
   "execution_count": 19,
   "metadata": {},
   "outputs": [],
   "source": [
    "emp_1 = Employee(\"James\", \"Hughes\", \"32\", 5000) \n",
    "emp_2 = Employee(\"Charlie\", \"Brown\", \"22\", 3000)"
   ]
  },
  {
   "cell_type": "code",
   "execution_count": 20,
   "metadata": {},
   "outputs": [
    {
     "name": "stdout",
     "output_type": "stream",
     "text": [
      "James Hughes\n"
     ]
    }
   ],
   "source": [
    "emp_1.fullname()"
   ]
  },
  {
   "cell_type": "code",
   "execution_count": 21,
   "metadata": {},
   "outputs": [
    {
     "name": "stdout",
     "output_type": "stream",
     "text": [
      "Charlie Brown\n"
     ]
    }
   ],
   "source": [
    "emp_2.fullname()"
   ]
  }
 ],
 "metadata": {
  "kernelspec": {
   "display_name": "Python 3",
   "language": "python",
   "name": "python3"
  },
  "language_info": {
   "codemirror_mode": {
    "name": "ipython",
    "version": 3
   },
   "file_extension": ".py",
   "mimetype": "text/x-python",
   "name": "python",
   "nbconvert_exporter": "python",
   "pygments_lexer": "ipython3",
   "version": "3.11.7"
  }
 },
 "nbformat": 4,
 "nbformat_minor": 2
}
