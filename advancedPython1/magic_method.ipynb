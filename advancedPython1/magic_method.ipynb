{
 "cells": [
  {
   "cell_type": "markdown",
   "metadata": {},
   "source": [
    "# Magic Method\n",
    "\n",
    "Magic Method'ları kullanırken bazı built-in davranışları değiştirebiliriz. Magic Method'lar \"__\" ile çevrilidir. (__MagicMethod__) Bunlara \"dunder method\" da denir.\n",
    "Bir tanesini \"__init__\" methodudur.\n",
    "\n",
    "Bu kodda sadece bi kaç tanesine bakılacak. Neler sağlıyorlar, nasıl bir formdalar, bunlara bakılacak.\n"
   ]
  },
  {
   "cell_type": "code",
   "execution_count": 1,
   "metadata": {},
   "outputs": [],
   "source": [
    "class Employee:\n",
    "\n",
    "    raise_percent = 1.05  # class variable\n",
    "    num_emp = 0 # class variable\n",
    "\n",
    "    def __init__(self, name, last, age, pay): # Magic Method'lardan biri\n",
    "        self.name = name \n",
    "        self.last = last\n",
    "        self.age = age\n",
    "        self.pay = pay\n",
    "        Employee.num_emp += 1 # her obje oluştuğunda bu class variable'ı güncellenecek\n",
    "\n",
    "    def apply_raise(self):\n",
    "        self.pay = self.pay * Employee.raise_percent "
   ]
  },
  {
   "cell_type": "code",
   "execution_count": 2,
   "metadata": {},
   "outputs": [],
   "source": [
    "emp_1 = Employee(\"James\", \"Hughes\", \"32\", 5000)\n",
    "emp_2 = Employee(\"Charlie\", \"Brown\", \"22\", 3000)"
   ]
  },
  {
   "cell_type": "markdown",
   "metadata": {},
   "source": [
    "## __init__()\n",
    "\n",
    "emp_1 = Employee(\"James\", \"Hughes\", \"32\", 5000) gibi class'tan obje oluşturma kısmında çağrılır. Class(...) formatında input olarak verilenleri, kendine arguman olarak alır."
   ]
  },
  {
   "cell_type": "markdown",
   "metadata": {},
   "source": [
    "## __str__()\n",
    "\n",
    "Objenin okunabilir bir tanımını oluşturur."
   ]
  },
  {
   "cell_type": "code",
   "execution_count": 10,
   "metadata": {},
   "outputs": [],
   "source": [
    "class Employee:\n",
    "\n",
    "    raise_percent = 1.05  # class variable\n",
    "    num_emp = 0 # class variable\n",
    "\n",
    "    def __init__(self, name, last, age, pay): # Magic Method'lardan biri\n",
    "        self.name = name \n",
    "        self.last = last\n",
    "        self.age = age\n",
    "        self.pay = pay\n",
    "        Employee.num_emp += 1 # her obje oluştuğunda bu class variable'ı güncellenecek\n",
    "\n",
    "    def apply_raise(self):\n",
    "        self.pay = self.pay * Employee.raise_percent\n",
    "\n",
    "\n",
    "    def __str__(self) -> str: # \"str\" veri tipi döndürür\n",
    "        return f\"Employee(name = {self.name}, last = {self.last}, age = {self.age}, pay = {self.pay})\"\n",
    "        # return \"merhaba\" # farklı şeyler de yazdırılabilir."
   ]
  },
  {
   "cell_type": "code",
   "execution_count": 11,
   "metadata": {},
   "outputs": [],
   "source": [
    "emp_1 = Employee(\"James\", \"Hughes\", \"32\", 5000)"
   ]
  },
  {
   "cell_type": "code",
   "execution_count": 12,
   "metadata": {},
   "outputs": [
    {
     "name": "stdout",
     "output_type": "stream",
     "text": [
      "Employee(name = James, last = Hughes, age = 32, pay = 5000)\n"
     ]
    }
   ],
   "source": [
    "print(emp_1)  # obje pritn içerisine verilirse, direkt çağrılır"
   ]
  },
  {
   "cell_type": "code",
   "execution_count": 13,
   "metadata": {},
   "outputs": [
    {
     "name": "stdout",
     "output_type": "stream",
     "text": [
      "<class '__main__.Employee'>\n"
     ]
    }
   ],
   "source": [
    "print(Employee)  # Bu şekilde class ile çağrılmaz çünkü \"self\" kullandık, obje olmalı"
   ]
  },
  {
   "cell_type": "markdown",
   "metadata": {},
   "source": [
    "## __add__()\n",
    "\n",
    "İki obje toplanmak isteniyor. Artı operatörüne (+), nasıl davrancakları tanımlanmak isteniyor. Bunun için bu Magic Method kullanılır."
   ]
  },
  {
   "cell_type": "code",
   "execution_count": 16,
   "metadata": {},
   "outputs": [],
   "source": [
    "class Employee:\n",
    "\n",
    "    raise_percent = 1.05  # class variable\n",
    "    num_emp = 0 # class variable\n",
    "\n",
    "    def __init__(self, name, last, age, pay): # Magic Method'lardan biri\n",
    "        self.name = name \n",
    "        self.last = last\n",
    "        self.age = age\n",
    "        self.pay = pay\n",
    "        Employee.num_emp += 1 # her obje oluştuğunda bu class variable'ı güncellenecek\n",
    "\n",
    "    def apply_raise(self):\n",
    "        self.pay = self.pay * Employee.raise_percent\n",
    "\n",
    "\n",
    "    def __str__(self) -> str: # \"str\" veri tipi döndürür\n",
    "        return f\"Employee(name = {self.name}, last = {self.last}, age = {self.age}, pay = {self.pay})\"\n",
    "\n",
    "\n",
    "    def __add__(self, other): \n",
    "        return self.pay + other.pay # iki ayrı objenin pay attribute'ları toplanıp döndürülüyor\n"
   ]
  },
  {
   "cell_type": "code",
   "execution_count": 17,
   "metadata": {},
   "outputs": [],
   "source": [
    "emp_1 = Employee(\"James\", \"Hughes\", \"32\", 5000)\n",
    "emp_2 = Employee(\"Charlie\", \"Brown\", \"22\", 3000)"
   ]
  },
  {
   "cell_type": "code",
   "execution_count": 18,
   "metadata": {},
   "outputs": [
    {
     "data": {
      "text/plain": [
       "8000"
      ]
     },
     "execution_count": 18,
     "metadata": {},
     "output_type": "execute_result"
    }
   ],
   "source": [
    "emp_1 + emp_2  # Bu şekilde __add__ methodu çağrılır."
   ]
  },
  {
   "cell_type": "code",
   "execution_count": 19,
   "metadata": {},
   "outputs": [
    {
     "data": {
      "text/plain": [
       "8000"
      ]
     },
     "execution_count": 19,
     "metadata": {},
     "output_type": "execute_result"
    }
   ],
   "source": [
    "Employee.__add__(emp_1, emp_2) # Bu şekilde de çağrılabilir."
   ]
  },
  {
   "cell_type": "markdown",
   "metadata": {},
   "source": [
    "## __len__()\n",
    "\n",
    "İstenilen bir şeyin boyutunu döndürmek için kullanılabilir. Örneğin yaratılan bir objenin \"name\" attribute'nun uzunluğunu döndürsün."
   ]
  },
  {
   "cell_type": "code",
   "execution_count": 20,
   "metadata": {},
   "outputs": [],
   "source": [
    "class Employee:\n",
    "\n",
    "    raise_percent = 1.05  # class variable\n",
    "    num_emp = 0 # class variable\n",
    "\n",
    "    def __init__(self, name, last, age, pay): # Magic Method'lardan biri\n",
    "        self.name = name \n",
    "        self.last = last\n",
    "        self.age = age\n",
    "        self.pay = pay\n",
    "        Employee.num_emp += 1 # her obje oluştuğunda bu class variable'ı güncellenecek\n",
    "\n",
    "    def apply_raise(self):\n",
    "        self.pay = self.pay * Employee.raise_percent\n",
    "\n",
    "\n",
    "    def __str__(self) -> str: # \"str\" veri tipi döndürür\n",
    "        return f\"Employee(name = {self.name}, last = {self.last}, age = {self.age}, pay = {self.pay})\"\n",
    "\n",
    "\n",
    "    def __add__(self, other): \n",
    "        return self.pay + other.pay # iki ayrı objenin pay attribute'ları toplanıp döndürülüyor\n",
    "\n",
    "    def __len__(self):\n",
    "        return len(self.name) # Yaratılan bir objenin \"name\" attribute'nun uzunluğunu döndürür."
   ]
  },
  {
   "cell_type": "code",
   "execution_count": 21,
   "metadata": {},
   "outputs": [],
   "source": [
    "emp_1 = Employee(\"James\", \"Hughes\", \"32\", 5000)\n",
    "emp_2 = Employee(\"Charlie\", \"Brown\", \"22\", 3000)"
   ]
  },
  {
   "cell_type": "code",
   "execution_count": 22,
   "metadata": {},
   "outputs": [
    {
     "data": {
      "text/plain": [
       "5"
      ]
     },
     "execution_count": 22,
     "metadata": {},
     "output_type": "execute_result"
    }
   ],
   "source": [
    "len(emp_1) # \"James\" : 5"
   ]
  },
  {
   "cell_type": "code",
   "execution_count": 23,
   "metadata": {},
   "outputs": [
    {
     "data": {
      "text/plain": [
       "7"
      ]
     },
     "execution_count": 23,
     "metadata": {},
     "output_type": "execute_result"
    }
   ],
   "source": [
    "len(emp_2) # \"Charlie\" : 7"
   ]
  }
 ],
 "metadata": {
  "kernelspec": {
   "display_name": "Python 3",
   "language": "python",
   "name": "python3"
  },
  "language_info": {
   "codemirror_mode": {
    "name": "ipython",
    "version": 3
   },
   "file_extension": ".py",
   "mimetype": "text/x-python",
   "name": "python",
   "nbconvert_exporter": "python",
   "pygments_lexer": "ipython3",
   "version": "3.11.7"
  }
 },
 "nbformat": 4,
 "nbformat_minor": 2
}
