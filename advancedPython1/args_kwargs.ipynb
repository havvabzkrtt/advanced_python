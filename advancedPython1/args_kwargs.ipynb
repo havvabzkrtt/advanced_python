{
 "cells": [
  {
   "cell_type": "code",
   "execution_count": null,
   "metadata": {},
   "outputs": [],
   "source": [
    "# NORMAL BİR FONKSİYON\n",
    "\n",
    "def sum(numbers):\n",
    "    res = 0\n",
    "    for i in numbers:\n",
    "        res += i\n",
    "    return res\n",
    "\n",
    "# Bu fonksiyonda belirli sayıda parametre alır, numbers ın booyutuna göre."
   ]
  },
  {
   "cell_type": "code",
   "execution_count": 1,
   "metadata": {},
   "outputs": [
    {
     "data": {
      "text/plain": [
       "10"
      ]
     },
     "execution_count": 1,
     "metadata": {},
     "output_type": "execute_result"
    }
   ],
   "source": [
    "numbers = [1, 2, 3, 4]\n",
    "sum(numbers)  # numbers dizisi içerisinde kaç veri varsa topluyor"
   ]
  },
  {
   "cell_type": "code",
   "execution_count": 2,
   "metadata": {},
   "outputs": [
    {
     "data": {
      "text/plain": [
       "3"
      ]
     },
     "execution_count": 2,
     "metadata": {},
     "output_type": "execute_result"
    }
   ],
   "source": [
    "numbers = [1, 2]\n",
    "sum(numbers)"
   ]
  },
  {
   "cell_type": "markdown",
   "metadata": {},
   "source": [
    "# *args\n",
    "\n",
    "Fonksiyonun parametresini *args olarak tanımladığımızda : Input olarak list/tuple gibi yapılar vermeden de değişken sayılı input'u sıralı olarak fonksiyona verebilmemizi sağlar.\n",
    "\n",
    "Parametre sayısını farklı şekillerde vermek istiyoruz. ( sum(1, 2, 3, 4) -> hata alırız bu şekilde)\n",
    "\n",
    "*args = 1, 2, 3, 4 olduğunu varsayacak (yani args ın tek tek elemanlara ayrılmış hali =  1  2  3  4 : yıldızlı args (*args) oldu) \n",
    "O zaman yıldızsız olan orijinal args -> (1, 2, 3, 4) olur. \n",
    "*args -> liste veya tuple olan args ın unpack edilmiş hali. Geri unpacking yapmak istersek tuple elde edilir."
   ]
  },
  {
   "cell_type": "code",
   "execution_count": 3,
   "metadata": {},
   "outputs": [],
   "source": [
    "def sum(*args):\n",
    "    res = 0\n",
    "    for i in args:\n",
    "        res += i\n",
    "    return res"
   ]
  },
  {
   "cell_type": "code",
   "execution_count": 4,
   "metadata": {},
   "outputs": [],
   "source": [
    "def sum(*numbers):\n",
    "    res = 0\n",
    "    print(type(numbers))\n",
    "    print(numbers)\n",
    "    for i in numbers:\n",
    "        res += i\n",
    "    return res"
   ]
  },
  {
   "cell_type": "code",
   "execution_count": 5,
   "metadata": {},
   "outputs": [
    {
     "name": "stdout",
     "output_type": "stream",
     "text": [
      "<class 'tuple'>\n",
      "(1, 2, 3, 4)\n"
     ]
    },
    {
     "data": {
      "text/plain": [
       "10"
      ]
     },
     "execution_count": 5,
     "metadata": {},
     "output_type": "execute_result"
    }
   ],
   "source": [
    "sum(1, 2, 3, 4) # unpack halini gönderiyoruz"
   ]
  },
  {
   "cell_type": "code",
   "execution_count": 6,
   "metadata": {},
   "outputs": [
    {
     "name": "stdout",
     "output_type": "stream",
     "text": [
      "<class 'tuple'>\n",
      "(1, 2, 3, 6, 7, 8, 2, 4, 5, 9)\n"
     ]
    },
    {
     "data": {
      "text/plain": [
       "47"
      ]
     },
     "execution_count": 6,
     "metadata": {},
     "output_type": "execute_result"
    }
   ],
   "source": [
    "sum(1, 2, 3, 6, 7, 8, 2, 4, 5, 9)"
   ]
  },
  {
   "cell_type": "code",
   "execution_count": 11,
   "metadata": {},
   "outputs": [],
   "source": [
    "def sum2(*args):\n",
    "    res = 0\n",
    "    print(type(args))\n",
    "    print(args)\n",
    "    print(\"liste uzunluk: \", len(args))\n",
    "    for i in args:\n",
    "        for j in i:\n",
    "            res += j\n",
    "    return res"
   ]
  },
  {
   "cell_type": "code",
   "execution_count": 12,
   "metadata": {},
   "outputs": [
    {
     "name": "stdout",
     "output_type": "stream",
     "text": [
      "<class 'tuple'>\n",
      "([1, 2],)\n",
      "liste uzunluk:  1\n"
     ]
    },
    {
     "data": {
      "text/plain": [
       "3"
      ]
     },
     "execution_count": 12,
     "metadata": {},
     "output_type": "execute_result"
    }
   ],
   "source": [
    "sum2([1, 2]) # bir dizi gönderirsek, unpack edilmiş gibi algıladığında tek bir elemanmış gibi düşünür"
   ]
  },
  {
   "cell_type": "markdown",
   "metadata": {},
   "source": [
    "# **kwargs \n",
    "\n",
    "Fonksiyonun parametresini **kwargs olarak verdiğimizde : Değişken sayıda keyword argument verebilmemizi sağlar.\n",
    "\n",
    "Tuttuğu default değer dictionary olur.\n",
    "**kwargs -> unpack edilmiş hali\n",
    "dictionary -> unpack edilmemiş hali / kwargs = {key1 : \"value1\", key2 : \"value2\"}"
   ]
  },
  {
   "cell_type": "code",
   "execution_count": 14,
   "metadata": {},
   "outputs": [],
   "source": [
    "def students(**kwargs):\n",
    "    for v in kwargs.values():\n",
    "        print(v)"
   ]
  },
  {
   "cell_type": "code",
   "execution_count": 15,
   "metadata": {},
   "outputs": [
    {
     "name": "stdout",
     "output_type": "stream",
     "text": [
      "Jack\n",
      "401\n"
     ]
    }
   ],
   "source": [
    "students(name = \"Jack\", student_number = \"401\")"
   ]
  },
  {
   "cell_type": "code",
   "execution_count": 20,
   "metadata": {},
   "outputs": [],
   "source": [
    "def students(**students):\n",
    "    print(type(students))\n",
    "    print(students)\n",
    "    for v in students:\n",
    "        print(v)"
   ]
  },
  {
   "cell_type": "code",
   "execution_count": 21,
   "metadata": {},
   "outputs": [
    {
     "name": "stdout",
     "output_type": "stream",
     "text": [
      "<class 'dict'>\n",
      "{'name': 'Jack', 'student_number': '401'}\n",
      "name\n",
      "student_number\n"
     ]
    }
   ],
   "source": [
    "students(name = \"Jack\", student_number = \"401\")"
   ]
  },
  {
   "cell_type": "markdown",
   "metadata": {},
   "source": [
    "# Using Args and Kwargs Together\n",
    "\n",
    "Kullanım sırası önemlidir."
   ]
  },
  {
   "cell_type": "code",
   "execution_count": null,
   "metadata": {},
   "outputs": [],
   "source": [
    "def weird(**kwargs, *args):  # hata alıyoruz\n",
    "    res = 0\n",
    "    for e in args:\n",
    "        res += e\n",
    "\n",
    "    for k, v in kwargs.items():\n",
    "        print(k, \":\", v)\n",
    "    \n",
    "    return res"
   ]
  },
  {
   "cell_type": "code",
   "execution_count": 22,
   "metadata": {},
   "outputs": [],
   "source": [
    "#önce args sonra kwargs yazılır\n",
    "def weird(*args, **kwargs): \n",
    "    res = 0\n",
    "    for e in args:\n",
    "        res += e\n",
    "\n",
    "    for k, v in kwargs.items():\n",
    "        print(k, \":\", v)\n",
    "    \n",
    "    return res"
   ]
  },
  {
   "cell_type": "code",
   "execution_count": 23,
   "metadata": {},
   "outputs": [
    {
     "name": "stdout",
     "output_type": "stream",
     "text": [
      "name : Jack\n",
      "student_number : 401\n"
     ]
    },
    {
     "data": {
      "text/plain": [
       "6"
      ]
     },
     "execution_count": 23,
     "metadata": {},
     "output_type": "execute_result"
    }
   ],
   "source": [
    "weird(1, 2, 3, name = \"Jack\", student_number = \"401\")"
   ]
  },
  {
   "cell_type": "code",
   "execution_count": 25,
   "metadata": {},
   "outputs": [
    {
     "name": "stdout",
     "output_type": "stream",
     "text": [
      "name : Jack\n",
      "student_number : 569\n"
     ]
    },
    {
     "data": {
      "text/plain": [
       "21"
      ]
     },
     "execution_count": 25,
     "metadata": {},
     "output_type": "execute_result"
    }
   ],
   "source": [
    "weird(1, 2, 3, 4, 5, 6, name = \"Jack\", student_number = \"569\")"
   ]
  },
  {
   "cell_type": "markdown",
   "metadata": {},
   "source": [
    "# Unpacking"
   ]
  },
  {
   "cell_type": "code",
   "execution_count": 26,
   "metadata": {},
   "outputs": [],
   "source": [
    "listee = [1, 2, 3, 4]"
   ]
  },
  {
   "cell_type": "code",
   "execution_count": 27,
   "metadata": {},
   "outputs": [
    {
     "name": "stdout",
     "output_type": "stream",
     "text": [
      "[1, 2, 3, 4]\n"
     ]
    }
   ],
   "source": [
    "print(listee)"
   ]
  },
  {
   "cell_type": "code",
   "execution_count": 28,
   "metadata": {},
   "outputs": [],
   "source": [
    "liste1 = [1, 2, 3, 4]\n",
    "liste2 = [20, 21]"
   ]
  },
  {
   "cell_type": "code",
   "execution_count": 38,
   "metadata": {},
   "outputs": [
    {
     "data": {
      "text/plain": [
       "[[1, 2, 3, 4], [20, 21]]"
      ]
     },
     "execution_count": 38,
     "metadata": {},
     "output_type": "execute_result"
    }
   ],
   "source": [
    "[liste1, liste2] # listeleri birer eleman olarak alır"
   ]
  },
  {
   "cell_type": "code",
   "execution_count": 30,
   "metadata": {},
   "outputs": [
    {
     "data": {
      "text/plain": [
       "[1, 2, 3, 4, 20, 21]"
      ]
     },
     "execution_count": 30,
     "metadata": {},
     "output_type": "execute_result"
    }
   ],
   "source": [
    "meged_1 = [*liste1, *liste2]\n",
    "meged_1"
   ]
  },
  {
   "cell_type": "code",
   "execution_count": 60,
   "metadata": {},
   "outputs": [],
   "source": [
    "# aynı key e sahip olmayacak\n",
    "d1 = {\"name\" : \"Jack\", \"number\": 402}\n",
    "d2 = {\"last_name\" : \"Skye\", \"grade\": 71}"
   ]
  },
  {
   "cell_type": "code",
   "execution_count": null,
   "metadata": {},
   "outputs": [],
   "source": [
    "d1 + d2  # hata verir"
   ]
  },
  {
   "cell_type": "code",
   "execution_count": 62,
   "metadata": {},
   "outputs": [],
   "source": [
    "d_merged = {**d1, **d2}"
   ]
  },
  {
   "cell_type": "code",
   "execution_count": 63,
   "metadata": {},
   "outputs": [
    {
     "data": {
      "text/plain": [
       "{'name': 'Jack', 'number': 402, 'last_name': 'Skye', 'grade': 71}"
      ]
     },
     "execution_count": 63,
     "metadata": {},
     "output_type": "execute_result"
    }
   ],
   "source": [
    "d_merged"
   ]
  },
  {
   "cell_type": "code",
   "execution_count": 64,
   "metadata": {},
   "outputs": [],
   "source": [
    "# aynı key e sahipse\n",
    "s1 = {\"name\" : \"Jack\", \"number\": 402}\n",
    "s2 = {\"name\" : \"Skye\", \"grade\": 71}"
   ]
  },
  {
   "cell_type": "code",
   "execution_count": 65,
   "metadata": {},
   "outputs": [
    {
     "data": {
      "text/plain": [
       "{'name': 'Skye', 'number': 402, 'grade': 71}"
      ]
     },
     "execution_count": 65,
     "metadata": {},
     "output_type": "execute_result"
    }
   ],
   "source": [
    "s_merge = {**s1, **s2}\n",
    "s_merge  # Tek bir key ve en güncel value sunu alır. Hata vermez."
   ]
  },
  {
   "cell_type": "code",
   "execution_count": 66,
   "metadata": {},
   "outputs": [],
   "source": [
    "# aynı key e sahipse\n",
    "s1 = {\"name\" : \"Jack\", \"number\": 402}\n",
    "s2 = {\"name\" : \"Skye\", \"grade\": 71}\n",
    "s3 = {\"name\" : \"Luna\", \"number\": 43}"
   ]
  },
  {
   "cell_type": "code",
   "execution_count": 67,
   "metadata": {},
   "outputs": [
    {
     "data": {
      "text/plain": [
       "{'name': 'Luna', 'number': 43, 'grade': 71}"
      ]
     },
     "execution_count": 67,
     "metadata": {},
     "output_type": "execute_result"
    }
   ],
   "source": [
    "s_merge = {**s1, **s2, **s3}\n",
    "s_merge  # Tek bir key ve en güncel value sunu alır. Hata vermez."
   ]
  },
  {
   "cell_type": "markdown",
   "metadata": {},
   "source": [
    "# String verirsek *'larla\n",
    "\n",
    "String içerisinde bulunan karakterleri unpack eder."
   ]
  },
  {
   "cell_type": "code",
   "execution_count": 72,
   "metadata": {},
   "outputs": [
    {
     "data": {
      "text/plain": [
       "{' ', 'a', 'e', 'g', 'h', 'i', 'n', 'r', 's', 't', 'y'}"
      ]
     },
     "execution_count": 72,
     "metadata": {},
     "output_type": "execute_result"
    }
   ],
   "source": [
    "str_list = {*\"hey this is a string\"} # karakterleri unpack eder, her karakter için sadece 1 tane yazdırır. \n",
    "str_list "
   ]
  }
 ],
 "metadata": {
  "kernelspec": {
   "display_name": "Python 3",
   "language": "python",
   "name": "python3"
  },
  "language_info": {
   "codemirror_mode": {
    "name": "ipython",
    "version": 3
   },
   "file_extension": ".py",
   "mimetype": "text/x-python",
   "name": "python",
   "nbconvert_exporter": "python",
   "pygments_lexer": "ipython3",
   "version": "3.11.7"
  }
 },
 "nbformat": 4,
 "nbformat_minor": 2
}
